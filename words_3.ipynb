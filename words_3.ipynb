{
 "cells": [
  {
   "cell_type": "code",
   "execution_count": 1,
   "metadata": {},
   "outputs": [],
   "source": [
    "# reads a docx file and shows a chart- number of each word that is more than one time\n",
    "import numpy as np\n",
    "import pandas as pd\n",
    "import matplotlib.pyplot as plt\n",
    "plt.style.use('seaborn-whitegrid')\n",
    "import docx2txt"
   ]
  },
  {
   "cell_type": "code",
   "execution_count": 53,
   "metadata": {},
   "outputs": [
    {
     "name": "stdout",
     "output_type": "stream",
     "text": [
      "extension is: .txt \n",
      "\n"
     ]
    },
    {
     "data": {
      "text/plain": [
       "'ab\\ncd\\nbe\\nffoAnother commonly used plot type is the simple scatter plot, a close cousin of the line plot. Instead of points being joined by line segments, here the points are represented individually with a dot, circle, or other shape. Weג€™\\n\\ndf df df df eg eg eg egged egged aa aa aa s ss ss \\nll start by setting up the notebook for plotting and importing the functions we will use:'"
      ]
     },
     "execution_count": 53,
     "metadata": {},
     "output_type": "execute_result"
    }
   ],
   "source": [
    "# creating a function that handles the different options of input file: txt,docx,pdf\n",
    "# desired API is read(file_name) returning a string of the text\n",
    "import os\n",
    "def reader(name):\n",
    "    _, extension = os.path.splitext(name)\n",
    "    print(f\"extension is: {extension} \\n\")\n",
    "    if extension == '.txt':\n",
    "        file = open(name)\n",
    "        return file.read()\n",
    "    if extension == '.docx':\n",
    "        return docx2txt.process(name)\n",
    "\n",
    "name = r'C:\\Users\\david\\Desktop\\input\\test1.txt'\n",
    "txt = reader(name)\n",
    "txt     \n",
    "    \n"
   ]
  },
  {
   "cell_type": "code",
   "execution_count": 54,
   "metadata": {},
   "outputs": [],
   "source": [
    "# hebrew- right to left. reversed version of the text that was read from left to right gives correct hebrew reading\n",
    "reversed = txt[::-1]"
   ]
  },
  {
   "cell_type": "code",
   "execution_count": 55,
   "metadata": {},
   "outputs": [
    {
     "data": {
      "text/plain": [
       "[':esu', 'lliw', 'ew', 'snoitcnuf', 'eht']"
      ]
     },
     "execution_count": 55,
     "metadata": {},
     "output_type": "execute_result"
    }
   ],
   "source": [
    "words = reversed.split()\n",
    "words[:5]"
   ]
  },
  {
   "cell_type": "code",
   "execution_count": 56,
   "metadata": {},
   "outputs": [],
   "source": [
    "from collections import Counter\n",
    "word_dict = Counter(words)"
   ]
  },
  {
   "cell_type": "code",
   "execution_count": 57,
   "metadata": {},
   "outputs": [
    {
     "data": {
      "text/plain": [
       ":esu         1\n",
       "lliw         1\n",
       "ew           1\n",
       "snoitcnuf    1\n",
       "eht          5\n",
       "dtype: int64"
      ]
     },
     "execution_count": 57,
     "metadata": {},
     "output_type": "execute_result"
    }
   ],
   "source": [
    "word_ser = pd.Series(word_dict)\n",
    "word_ser[:5]"
   ]
  },
  {
   "cell_type": "code",
   "execution_count": 60,
   "metadata": {},
   "outputs": [
    {
     "data": {
      "text/plain": [
       "eht      5\n",
       "yb       2\n",
       "ss       2\n",
       "aa       3\n",
       "degge    2\n",
       "dtype: int64"
      ]
     },
     "execution_count": 60,
     "metadata": {},
     "output_type": "execute_result"
    }
   ],
   "source": [
    "masked = word_ser[(word_ser>1)]\n",
    "masked[:5]"
   ]
  },
  {
   "cell_type": "code",
   "execution_count": 61,
   "metadata": {},
   "outputs": [
    {
     "data": {
      "image/png": "[encoded data removed]",
      "text/plain": [
       "<Figure size 432x288 with 1 Axes>"
      ]
     },
     "metadata": {},
     "output_type": "display_data"
    }
   ],
   "source": [
    "plt.bar(masked.index, height=masked);"
   ]
  },
  {
   "cell_type": "code",
   "execution_count": 32,
   "metadata": {},
   "outputs": [],
   "source": [
    "# and thats exactly what we wanted!"
   ]
  }
 ],
 "metadata": {
  "kernelspec": {
   "display_name": "Python 3",
   "language": "python",
   "name": "python3"
  },
  "language_info": {
   "codemirror_mode": {
    "name": "ipython",
    "version": 3
   },
   "file_extension": ".py",
   "mimetype": "text/x-python",
   "name": "python",
   "nbconvert_exporter": "python",
   "pygments_lexer": "ipython3",
   "version": "3.8.3"
  }
 },
 "nbformat": 4,
 "nbformat_minor": 4
}
